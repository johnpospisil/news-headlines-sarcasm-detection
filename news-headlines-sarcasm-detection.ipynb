{
 "cells": [
  {
   "cell_type": "code",
   "execution_count": 1,
   "id": "a5736e9c",
   "metadata": {
    "_cell_guid": "b1076dfc-b9ad-4769-8c92-a6c4dae69d19",
    "_uuid": "8f2839f25d086af736a60e9eeb907d3b93b6e0e5",
    "execution": {
     "iopub.execute_input": "2024-03-05T02:06:12.470634Z",
     "iopub.status.busy": "2024-03-05T02:06:12.470097Z",
     "iopub.status.idle": "2024-03-05T02:06:15.183052Z",
     "shell.execute_reply": "2024-03-05T02:06:15.181714Z"
    },
    "papermill": {
     "duration": 2.721043,
     "end_time": "2024-03-05T02:06:15.185410",
     "exception": false,
     "start_time": "2024-03-05T02:06:12.464367",
     "status": "completed"
    },
    "tags": []
   },
   "outputs": [],
   "source": [
    "import numpy as np \n",
    "import pandas as pd\n",
    "import matplotlib.pyplot as plt\n",
    "import seaborn as sns\n",
    "from sklearn.model_selection import train_test_split"
   ]
  },
  {
   "cell_type": "code",
   "execution_count": 2,
   "id": "d91ab5f3",
   "metadata": {
    "execution": {
     "iopub.execute_input": "2024-03-05T02:06:15.195061Z",
     "iopub.status.busy": "2024-03-05T02:06:15.194317Z",
     "iopub.status.idle": "2024-03-05T02:06:15.408758Z",
     "shell.execute_reply": "2024-03-05T02:06:15.407846Z"
    },
    "papermill": {
     "duration": 0.221747,
     "end_time": "2024-03-05T02:06:15.411095",
     "exception": false,
     "start_time": "2024-03-05T02:06:15.189348",
     "status": "completed"
    },
    "tags": []
   },
   "outputs": [
    {
     "data": {
      "text/html": [
       "<div>\n",
       "<style scoped>\n",
       "    .dataframe tbody tr th:only-of-type {\n",
       "        vertical-align: middle;\n",
       "    }\n",
       "\n",
       "    .dataframe tbody tr th {\n",
       "        vertical-align: top;\n",
       "    }\n",
       "\n",
       "    .dataframe thead th {\n",
       "        text-align: right;\n",
       "    }\n",
       "</style>\n",
       "<table border=\"1\" class=\"dataframe\">\n",
       "  <thead>\n",
       "    <tr style=\"text-align: right;\">\n",
       "      <th></th>\n",
       "      <th>is_sarcastic</th>\n",
       "      <th>headline</th>\n",
       "      <th>article_link</th>\n",
       "    </tr>\n",
       "  </thead>\n",
       "  <tbody>\n",
       "    <tr>\n",
       "      <th>0</th>\n",
       "      <td>1</td>\n",
       "      <td>thirtysomething scientists unveil doomsday clo...</td>\n",
       "      <td>https://www.theonion.com/thirtysomething-scien...</td>\n",
       "    </tr>\n",
       "    <tr>\n",
       "      <th>1</th>\n",
       "      <td>0</td>\n",
       "      <td>dem rep. totally nails why congress is falling...</td>\n",
       "      <td>https://www.huffingtonpost.com/entry/donna-edw...</td>\n",
       "    </tr>\n",
       "    <tr>\n",
       "      <th>2</th>\n",
       "      <td>0</td>\n",
       "      <td>eat your veggies: 9 deliciously different recipes</td>\n",
       "      <td>https://www.huffingtonpost.com/entry/eat-your-...</td>\n",
       "    </tr>\n",
       "    <tr>\n",
       "      <th>3</th>\n",
       "      <td>1</td>\n",
       "      <td>inclement weather prevents liar from getting t...</td>\n",
       "      <td>https://local.theonion.com/inclement-weather-p...</td>\n",
       "    </tr>\n",
       "    <tr>\n",
       "      <th>4</th>\n",
       "      <td>1</td>\n",
       "      <td>mother comes pretty close to using word 'strea...</td>\n",
       "      <td>https://www.theonion.com/mother-comes-pretty-c...</td>\n",
       "    </tr>\n",
       "  </tbody>\n",
       "</table>\n",
       "</div>"
      ],
      "text/plain": [
       "   is_sarcastic                                           headline  \\\n",
       "0             1  thirtysomething scientists unveil doomsday clo...   \n",
       "1             0  dem rep. totally nails why congress is falling...   \n",
       "2             0  eat your veggies: 9 deliciously different recipes   \n",
       "3             1  inclement weather prevents liar from getting t...   \n",
       "4             1  mother comes pretty close to using word 'strea...   \n",
       "\n",
       "                                        article_link  \n",
       "0  https://www.theonion.com/thirtysomething-scien...  \n",
       "1  https://www.huffingtonpost.com/entry/donna-edw...  \n",
       "2  https://www.huffingtonpost.com/entry/eat-your-...  \n",
       "3  https://local.theonion.com/inclement-weather-p...  \n",
       "4  https://www.theonion.com/mother-comes-pretty-c...  "
      ]
     },
     "execution_count": 2,
     "metadata": {},
     "output_type": "execute_result"
    }
   ],
   "source": [
    "df = pd.read_json(\"../input/news-headlines-dataset-for-sarcasm-detection/Sarcasm_Headlines_Dataset_v2.json\", lines=True)\n",
    "df.head()"
   ]
  },
  {
   "cell_type": "code",
   "execution_count": 3,
   "id": "a6ac2be7",
   "metadata": {
    "execution": {
     "iopub.execute_input": "2024-03-05T02:06:15.420197Z",
     "iopub.status.busy": "2024-03-05T02:06:15.419806Z",
     "iopub.status.idle": "2024-03-05T02:06:15.452306Z",
     "shell.execute_reply": "2024-03-05T02:06:15.450859Z"
    },
    "papermill": {
     "duration": 0.039167,
     "end_time": "2024-03-05T02:06:15.454140",
     "exception": false,
     "start_time": "2024-03-05T02:06:15.414973",
     "status": "completed"
    },
    "tags": []
   },
   "outputs": [
    {
     "name": "stdout",
     "output_type": "stream",
     "text": [
      "<class 'pandas.core.frame.DataFrame'>\n",
      "Index: 28619 entries, 0 to 28618\n",
      "Data columns (total 3 columns):\n",
      " #   Column        Non-Null Count  Dtype \n",
      "---  ------        --------------  ----- \n",
      " 0   is_sarcastic  28619 non-null  int64 \n",
      " 1   headline      28619 non-null  object\n",
      " 2   article_link  28619 non-null  object\n",
      "dtypes: int64(1), object(2)\n",
      "memory usage: 894.3+ KB\n"
     ]
    }
   ],
   "source": [
    "df.info()"
   ]
  },
  {
   "cell_type": "code",
   "execution_count": 4,
   "id": "6040482d",
   "metadata": {
    "execution": {
     "iopub.execute_input": "2024-03-05T02:06:15.463217Z",
     "iopub.status.busy": "2024-03-05T02:06:15.462876Z",
     "iopub.status.idle": "2024-03-05T02:06:15.468051Z",
     "shell.execute_reply": "2024-03-05T02:06:15.466694Z"
    },
    "papermill": {
     "duration": 0.011907,
     "end_time": "2024-03-05T02:06:15.469940",
     "exception": false,
     "start_time": "2024-03-05T02:06:15.458033",
     "status": "completed"
    },
    "tags": []
   },
   "outputs": [],
   "source": [
    "del df['article_link']"
   ]
  },
  {
   "cell_type": "code",
   "execution_count": 5,
   "id": "1d38c251",
   "metadata": {
    "execution": {
     "iopub.execute_input": "2024-03-05T02:06:15.479105Z",
     "iopub.status.busy": "2024-03-05T02:06:15.478769Z",
     "iopub.status.idle": "2024-03-05T02:06:27.474320Z",
     "shell.execute_reply": "2024-03-05T02:06:27.473004Z"
    },
    "papermill": {
     "duration": 12.002822,
     "end_time": "2024-03-05T02:06:27.476638",
     "exception": false,
     "start_time": "2024-03-05T02:06:15.473816",
     "status": "completed"
    },
    "tags": []
   },
   "outputs": [
    {
     "name": "stdout",
     "output_type": "stream",
     "text": [
      "[nltk_data] Downloading package stopwords to /usr/share/nltk_data...\n",
      "[nltk_data]   Package stopwords is already up-to-date!\n"
     ]
    }
   ],
   "source": [
    "import re\n",
    "import nltk\n",
    "nltk.download('stopwords')\n",
    "from nltk.corpus import stopwords\n",
    "from nltk.stem.porter import PorterStemmer\n",
    "corpus = []\n",
    "for i in range(0, 28619):\n",
    "  review = re.sub('[^a-zA-Z]', ' ', df['headline'][i])\n",
    "  review = review.lower()\n",
    "  review = review.split()\n",
    "  ps = PorterStemmer()\n",
    "  all_stopwords = stopwords.words('english')\n",
    "  all_stopwords.remove('not')\n",
    "  all_stopwords.remove('isn\\'t')\n",
    "  review = [ps.stem(word) for word in review if not word in set(all_stopwords)]\n",
    "  review = ' '.join(review)\n",
    "  corpus.append(review)"
   ]
  },
  {
   "cell_type": "code",
   "execution_count": 6,
   "id": "9781a4e3",
   "metadata": {
    "execution": {
     "iopub.execute_input": "2024-03-05T02:06:27.486147Z",
     "iopub.status.busy": "2024-03-05T02:06:27.485720Z",
     "iopub.status.idle": "2024-03-05T02:06:27.490824Z",
     "shell.execute_reply": "2024-03-05T02:06:27.489549Z"
    },
    "papermill": {
     "duration": 0.011976,
     "end_time": "2024-03-05T02:06:27.492601",
     "exception": false,
     "start_time": "2024-03-05T02:06:27.480625",
     "status": "completed"
    },
    "tags": []
   },
   "outputs": [
    {
     "name": "stdout",
     "output_type": "stream",
     "text": [
      "177\n"
     ]
    }
   ],
   "source": [
    "print(len(all_stopwords))"
   ]
  },
  {
   "cell_type": "code",
   "execution_count": 7,
   "id": "71dd6052",
   "metadata": {
    "execution": {
     "iopub.execute_input": "2024-03-05T02:06:27.501560Z",
     "iopub.status.busy": "2024-03-05T02:06:27.501181Z",
     "iopub.status.idle": "2024-03-05T02:06:27.507265Z",
     "shell.execute_reply": "2024-03-05T02:06:27.505862Z"
    },
    "papermill": {
     "duration": 0.01299,
     "end_time": "2024-03-05T02:06:27.509569",
     "exception": false,
     "start_time": "2024-03-05T02:06:27.496579",
     "status": "completed"
    },
    "tags": []
   },
   "outputs": [
    {
     "name": "stdout",
     "output_type": "stream",
     "text": [
      "['thirtysometh scientist unveil doomsday clock hair loss', 'dem rep total nail congress fall short gender racial equal', 'eat veggi delici differ recip', 'inclement weather prevent liar get work', 'mother come pretti close use word stream correctli', 'white inherit', 'way file tax less stress', 'richard branson global warm donat nearli much cost fail balloon trip', 'shadow govern get larg meet marriott confer room b', 'lot parent know scenario']\n"
     ]
    }
   ],
   "source": [
    "print(corpus[0:10])"
   ]
  },
  {
   "cell_type": "code",
   "execution_count": 8,
   "id": "8cfff029",
   "metadata": {
    "execution": {
     "iopub.execute_input": "2024-03-05T02:06:27.519363Z",
     "iopub.status.busy": "2024-03-05T02:06:27.518984Z",
     "iopub.status.idle": "2024-03-05T02:06:28.016357Z",
     "shell.execute_reply": "2024-03-05T02:06:28.015450Z"
    },
    "papermill": {
     "duration": 0.505061,
     "end_time": "2024-03-05T02:06:28.018767",
     "exception": false,
     "start_time": "2024-03-05T02:06:27.513706",
     "status": "completed"
    },
    "tags": []
   },
   "outputs": [],
   "source": [
    "from sklearn.feature_extraction.text import CountVectorizer\n",
    "# cv = CountVectorizer(max_features = 1500)\n",
    "cv = CountVectorizer()\n",
    "X = cv.fit_transform(corpus).toarray()\n",
    "y = df['is_sarcastic']"
   ]
  },
  {
   "cell_type": "code",
   "execution_count": 9,
   "id": "8077e256",
   "metadata": {
    "execution": {
     "iopub.execute_input": "2024-03-05T02:06:28.028349Z",
     "iopub.status.busy": "2024-03-05T02:06:28.027992Z",
     "iopub.status.idle": "2024-03-05T02:06:28.033777Z",
     "shell.execute_reply": "2024-03-05T02:06:28.032827Z"
    },
    "papermill": {
     "duration": 0.013455,
     "end_time": "2024-03-05T02:06:28.036300",
     "exception": false,
     "start_time": "2024-03-05T02:06:28.022845",
     "status": "completed"
    },
    "tags": []
   },
   "outputs": [
    {
     "data": {
      "text/plain": [
       "17496"
      ]
     },
     "execution_count": 9,
     "metadata": {},
     "output_type": "execute_result"
    }
   ],
   "source": [
    "len(X[0])"
   ]
  },
  {
   "cell_type": "code",
   "execution_count": 10,
   "id": "035b3c61",
   "metadata": {
    "execution": {
     "iopub.execute_input": "2024-03-05T02:06:28.046021Z",
     "iopub.status.busy": "2024-03-05T02:06:28.045674Z",
     "iopub.status.idle": "2024-03-05T02:06:29.157522Z",
     "shell.execute_reply": "2024-03-05T02:06:29.156054Z"
    },
    "papermill": {
     "duration": 1.119309,
     "end_time": "2024-03-05T02:06:29.159839",
     "exception": false,
     "start_time": "2024-03-05T02:06:28.040530",
     "status": "completed"
    },
    "tags": []
   },
   "outputs": [],
   "source": [
    "from sklearn.model_selection import train_test_split\n",
    "X_train, X_test, y_train, y_test = train_test_split(X, y, test_size = 0.20, random_state = 0)"
   ]
  },
  {
   "cell_type": "code",
   "execution_count": 11,
   "id": "a97cfef1",
   "metadata": {
    "execution": {
     "iopub.execute_input": "2024-03-05T02:06:29.169372Z",
     "iopub.status.busy": "2024-03-05T02:06:29.168994Z",
     "iopub.status.idle": "2024-03-05T02:06:33.098107Z",
     "shell.execute_reply": "2024-03-05T02:06:33.096788Z"
    },
    "papermill": {
     "duration": 3.936651,
     "end_time": "2024-03-05T02:06:33.100623",
     "exception": false,
     "start_time": "2024-03-05T02:06:29.163972",
     "status": "completed"
    },
    "tags": []
   },
   "outputs": [
    {
     "data": {
      "text/html": [
       "<style>#sk-container-id-1 {color: black;background-color: white;}#sk-container-id-1 pre{padding: 0;}#sk-container-id-1 div.sk-toggleable {background-color: white;}#sk-container-id-1 label.sk-toggleable__label {cursor: pointer;display: block;width: 100%;margin-bottom: 0;padding: 0.3em;box-sizing: border-box;text-align: center;}#sk-container-id-1 label.sk-toggleable__label-arrow:before {content: \"▸\";float: left;margin-right: 0.25em;color: #696969;}#sk-container-id-1 label.sk-toggleable__label-arrow:hover:before {color: black;}#sk-container-id-1 div.sk-estimator:hover label.sk-toggleable__label-arrow:before {color: black;}#sk-container-id-1 div.sk-toggleable__content {max-height: 0;max-width: 0;overflow: hidden;text-align: left;background-color: #f0f8ff;}#sk-container-id-1 div.sk-toggleable__content pre {margin: 0.2em;color: black;border-radius: 0.25em;background-color: #f0f8ff;}#sk-container-id-1 input.sk-toggleable__control:checked~div.sk-toggleable__content {max-height: 200px;max-width: 100%;overflow: auto;}#sk-container-id-1 input.sk-toggleable__control:checked~label.sk-toggleable__label-arrow:before {content: \"▾\";}#sk-container-id-1 div.sk-estimator input.sk-toggleable__control:checked~label.sk-toggleable__label {background-color: #d4ebff;}#sk-container-id-1 div.sk-label input.sk-toggleable__control:checked~label.sk-toggleable__label {background-color: #d4ebff;}#sk-container-id-1 input.sk-hidden--visually {border: 0;clip: rect(1px 1px 1px 1px);clip: rect(1px, 1px, 1px, 1px);height: 1px;margin: -1px;overflow: hidden;padding: 0;position: absolute;width: 1px;}#sk-container-id-1 div.sk-estimator {font-family: monospace;background-color: #f0f8ff;border: 1px dotted black;border-radius: 0.25em;box-sizing: border-box;margin-bottom: 0.5em;}#sk-container-id-1 div.sk-estimator:hover {background-color: #d4ebff;}#sk-container-id-1 div.sk-parallel-item::after {content: \"\";width: 100%;border-bottom: 1px solid gray;flex-grow: 1;}#sk-container-id-1 div.sk-label:hover label.sk-toggleable__label {background-color: #d4ebff;}#sk-container-id-1 div.sk-serial::before {content: \"\";position: absolute;border-left: 1px solid gray;box-sizing: border-box;top: 0;bottom: 0;left: 50%;z-index: 0;}#sk-container-id-1 div.sk-serial {display: flex;flex-direction: column;align-items: center;background-color: white;padding-right: 0.2em;padding-left: 0.2em;position: relative;}#sk-container-id-1 div.sk-item {position: relative;z-index: 1;}#sk-container-id-1 div.sk-parallel {display: flex;align-items: stretch;justify-content: center;background-color: white;position: relative;}#sk-container-id-1 div.sk-item::before, #sk-container-id-1 div.sk-parallel-item::before {content: \"\";position: absolute;border-left: 1px solid gray;box-sizing: border-box;top: 0;bottom: 0;left: 50%;z-index: -1;}#sk-container-id-1 div.sk-parallel-item {display: flex;flex-direction: column;z-index: 1;position: relative;background-color: white;}#sk-container-id-1 div.sk-parallel-item:first-child::after {align-self: flex-end;width: 50%;}#sk-container-id-1 div.sk-parallel-item:last-child::after {align-self: flex-start;width: 50%;}#sk-container-id-1 div.sk-parallel-item:only-child::after {width: 0;}#sk-container-id-1 div.sk-dashed-wrapped {border: 1px dashed gray;margin: 0 0.4em 0.5em 0.4em;box-sizing: border-box;padding-bottom: 0.4em;background-color: white;}#sk-container-id-1 div.sk-label label {font-family: monospace;font-weight: bold;display: inline-block;line-height: 1.2em;}#sk-container-id-1 div.sk-label-container {text-align: center;}#sk-container-id-1 div.sk-container {/* jupyter's `normalize.less` sets `[hidden] { display: none; }` but bootstrap.min.css set `[hidden] { display: none !important; }` so we also need the `!important` here to be able to override the default hidden behavior on the sphinx rendered scikit-learn.org. See: https://github.com/scikit-learn/scikit-learn/issues/21755 */display: inline-block !important;position: relative;}#sk-container-id-1 div.sk-text-repr-fallback {display: none;}</style><div id=\"sk-container-id-1\" class=\"sk-top-container\"><div class=\"sk-text-repr-fallback\"><pre>GaussianNB()</pre><b>In a Jupyter environment, please rerun this cell to show the HTML representation or trust the notebook. <br />On GitHub, the HTML representation is unable to render, please try loading this page with nbviewer.org.</b></div><div class=\"sk-container\" hidden><div class=\"sk-item\"><div class=\"sk-estimator sk-toggleable\"><input class=\"sk-toggleable__control sk-hidden--visually\" id=\"sk-estimator-id-1\" type=\"checkbox\" checked><label for=\"sk-estimator-id-1\" class=\"sk-toggleable__label sk-toggleable__label-arrow\">GaussianNB</label><div class=\"sk-toggleable__content\"><pre>GaussianNB()</pre></div></div></div></div></div>"
      ],
      "text/plain": [
       "GaussianNB()"
      ]
     },
     "execution_count": 11,
     "metadata": {},
     "output_type": "execute_result"
    }
   ],
   "source": [
    "from sklearn.naive_bayes import GaussianNB\n",
    "classifier = GaussianNB()\n",
    "classifier.fit(X_train, y_train)"
   ]
  },
  {
   "cell_type": "code",
   "execution_count": 12,
   "id": "22d05e75",
   "metadata": {
    "execution": {
     "iopub.execute_input": "2024-03-05T02:06:33.111928Z",
     "iopub.status.busy": "2024-03-05T02:06:33.111592Z",
     "iopub.status.idle": "2024-03-05T02:06:33.904690Z",
     "shell.execute_reply": "2024-03-05T02:06:33.903391Z"
    },
    "papermill": {
     "duration": 0.80138,
     "end_time": "2024-03-05T02:06:33.907226",
     "exception": false,
     "start_time": "2024-03-05T02:06:33.105846",
     "status": "completed"
    },
    "tags": []
   },
   "outputs": [],
   "source": [
    "y_pred = classifier.predict(X_test)\n",
    "# print(np.concatenate((y_pred.reshape(len(y_pred),1), y_test.reshape(len(y_test),1)),1))"
   ]
  },
  {
   "cell_type": "code",
   "execution_count": 13,
   "id": "e5299d7e",
   "metadata": {
    "execution": {
     "iopub.execute_input": "2024-03-05T02:06:33.917978Z",
     "iopub.status.busy": "2024-03-05T02:06:33.917623Z",
     "iopub.status.idle": "2024-03-05T02:06:33.928544Z",
     "shell.execute_reply": "2024-03-05T02:06:33.927361Z"
    },
    "papermill": {
     "duration": 0.018781,
     "end_time": "2024-03-05T02:06:33.930810",
     "exception": false,
     "start_time": "2024-03-05T02:06:33.912029",
     "status": "completed"
    },
    "tags": []
   },
   "outputs": [
    {
     "name": "stdout",
     "output_type": "stream",
     "text": [
      "[[2672  358]\n",
      " [1571 1123]]\n"
     ]
    },
    {
     "data": {
      "text/plain": [
       "0.6629979035639413"
      ]
     },
     "execution_count": 13,
     "metadata": {},
     "output_type": "execute_result"
    }
   ],
   "source": [
    "from sklearn.metrics import confusion_matrix, accuracy_score\n",
    "cm = confusion_matrix(y_test, y_pred)\n",
    "print(cm)\n",
    "accuracy_score(y_test, y_pred)\n"
   ]
  },
  {
   "cell_type": "code",
   "execution_count": null,
   "id": "844e647c",
   "metadata": {
    "papermill": {
     "duration": 0.004055,
     "end_time": "2024-03-05T02:06:33.939173",
     "exception": false,
     "start_time": "2024-03-05T02:06:33.935118",
     "status": "completed"
    },
    "tags": []
   },
   "outputs": [],
   "source": []
  }
 ],
 "metadata": {
  "kaggle": {
   "accelerator": "none",
   "dataSources": [
    {
     "datasetId": 30764,
     "sourceId": 533474,
     "sourceType": "datasetVersion"
    }
   ],
   "dockerImageVersionId": 30664,
   "isGpuEnabled": false,
   "isInternetEnabled": true,
   "language": "python",
   "sourceType": "notebook"
  },
  "kernelspec": {
   "display_name": "Python 3",
   "language": "python",
   "name": "python3"
  },
  "language_info": {
   "codemirror_mode": {
    "name": "ipython",
    "version": 3
   },
   "file_extension": ".py",
   "mimetype": "text/x-python",
   "name": "python",
   "nbconvert_exporter": "python",
   "pygments_lexer": "ipython3",
   "version": "3.10.13"
  },
  "papermill": {
   "default_parameters": {},
   "duration": 24.551627,
   "end_time": "2024-03-05T02:06:34.564140",
   "environment_variables": {},
   "exception": null,
   "input_path": "__notebook__.ipynb",
   "output_path": "__notebook__.ipynb",
   "parameters": {},
   "start_time": "2024-03-05T02:06:10.012513",
   "version": "2.5.0"
  }
 },
 "nbformat": 4,
 "nbformat_minor": 5
}
